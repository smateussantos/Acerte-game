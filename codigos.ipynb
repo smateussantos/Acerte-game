{
  "nbformat": 4,
  "nbformat_minor": 0,
  "metadata": {
    "colab": {
      "provenance": [],
      "authorship_tag": "ABX9TyOj6DivIHxZbyYe+JCK4YIY",
      "include_colab_link": true
    },
    "kernelspec": {
      "name": "python3",
      "display_name": "Python 3"
    },
    "language_info": {
      "name": "python"
    }
  },
  "cells": [
    {
      "cell_type": "markdown",
      "metadata": {
        "id": "view-in-github",
        "colab_type": "text"
      },
      "source": [
        "<a href=\"https://colab.research.google.com/github/smateussantos/Acerte-game/blob/main/codigos.ipynb\" target=\"_parent\"><img src=\"https://colab.research.google.com/assets/colab-badge.svg\" alt=\"Open In Colab\"/></a>"
      ]
    },
    {
      "cell_type": "code",
      "execution_count": null,
      "metadata": {
        "colab": {
          "base_uri": "https://localhost:8080/"
        },
        "id": "QLHXSt_k3hlx",
        "outputId": "f8ca1442-ebae-490a-c909-cb003af714ed"
      },
      "outputs": [
        {
          "output_type": "stream",
          "name": "stdout",
          "text": [
            "nota: 9\n",
            "aprovado\n"
          ]
        }
      ],
      "source": [
        "nota = float(input('nota: '))\n",
        "if (nota >= 7):\n",
        "  print('aprovado')\n",
        "else:\n",
        "  print('Reprovado')"
      ]
    },
    {
      "cell_type": "code",
      "source": [
        "num = float(input('insira um numero: '))\n",
        "print (f'o dobro de {num} e {num * 2}')\n",
        "print (f'a metade de {num} e {num/2}')\n",
        "print (f'o quqdrado de {num} e {num**2}')\n"
      ],
      "metadata": {
        "id": "asV4vhNk3xxg",
        "outputId": "32e76d41-d48e-4828-b6ed-c146bda26339",
        "colab": {
          "base_uri": "https://localhost:8080/"
        }
      },
      "execution_count": null,
      "outputs": [
        {
          "output_type": "stream",
          "name": "stdout",
          "text": [
            "insira um numero: 39\n",
            "o dobro de 39.0 e 78.0\n",
            "a metade de 39.0 e 19.5\n",
            "o quqdrado de 39.0 e 1521.0\n"
          ]
        }
      ]
    },
    {
      "cell_type": "code",
      "source": [],
      "metadata": {
        "id": "9MiLvUc24JFN"
      },
      "execution_count": null,
      "outputs": []
    },
    {
      "cell_type": "code",
      "source": [
        "# verificar positivo, negativo ou zero\n",
        "\n",
        "numero = int(input(\"digita ai, otario!  \"))\n",
        "\n",
        "if numero > 0:\n",
        "  print(\"e positivo\")\n",
        "elif numero < 0:\n",
        "  print(\"e negativo\")\n",
        "else:\n",
        "  print(\"E zero\")"
      ],
      "metadata": {
        "colab": {
          "base_uri": "https://localhost:8080/"
        },
        "id": "ZL61V3ejwcLl",
        "outputId": "b53e9359-f05c-4aa5-f413-7b921ab005bf"
      },
      "execution_count": null,
      "outputs": [
        {
          "output_type": "stream",
          "name": "stdout",
          "text": [
            "digita ai, otario!  19\n",
            "e positivo\n"
          ]
        }
      ]
    },
    {
      "cell_type": "code",
      "source": [],
      "metadata": {
        "id": "jfKRH0orboHS"
      },
      "execution_count": null,
      "outputs": []
    },
    {
      "cell_type": "code",
      "source": [
        "#receba dois numeros e diga se ele e igual, ou maior.\n",
        "\n",
        "num1 = int(input(\"digite o num1 \"))\n",
        "num2 = int(input(\"digita o num2 \"))\n",
        "\n",
        "if num1 > num2:\n",
        "  print(f'O maior e {num1}!')\n",
        "elif num2 > num1:\n",
        "  print(f\"O maior e {num2}\")\n",
        "else:\n",
        "  print(\"São iguais!\")\n",
        "\n"
      ],
      "metadata": {
        "colab": {
          "base_uri": "https://localhost:8080/"
        },
        "id": "jFPAyCHsyha0",
        "outputId": "26b8398a-42db-4438-ca00-f8a80f99958d"
      },
      "execution_count": null,
      "outputs": [
        {
          "output_type": "stream",
          "name": "stdout",
          "text": [
            "digite o num1 0\n",
            "digita o num2 9\n",
            "O amior e 9\n"
          ]
        }
      ]
    },
    {
      "cell_type": "code",
      "source": [
        "#Recebe um numero e diz se e apar ou impar\n",
        "\n",
        "numero = 90\n",
        "if numero % 2 == 0:\n",
        "  print(\"e par!\")\n",
        "else:\n",
        "  print(\" e impar!\")\n",
        "\n"
      ],
      "metadata": {
        "colab": {
          "base_uri": "https://localhost:8080/"
        },
        "id": "b8aNcNys13M7",
        "outputId": "2be4cf51-00e1-4a4a-eb18-ede87816615f"
      },
      "execution_count": null,
      "outputs": [
        {
          "output_type": "stream",
          "name": "stdout",
          "text": [
            "e par!\n"
          ]
        }
      ]
    },
    {
      "cell_type": "code",
      "source": [],
      "metadata": {
        "id": "GK470B7HhqOL"
      },
      "execution_count": null,
      "outputs": []
    },
    {
      "cell_type": "code",
      "source": [
        "# defina uma senha a entao pede para o usuario\n",
        "# digitar a senha\n",
        "# se for correta, imprima \" Acesso liberado!\"\n",
        "# se não, imprima \" senha incorreta, sabidinho!\"\n",
        "\n",
        "\n",
        "senha = \"2817\"\n",
        "\n",
        "in_senha = input(\"Digite a senha!\")\n",
        "\n",
        "if in_senha == senha:\n",
        "  print(\"Acesso liberado!\")\n",
        "else:\n",
        "  print(\"Senha incorreta!\")"
      ],
      "metadata": {
        "colab": {
          "base_uri": "https://localhost:8080/"
        },
        "id": "SnvKaUnX46O-",
        "outputId": "f066b69b-fcce-4a97-ad9f-f3e5b5dd75d0"
      },
      "execution_count": null,
      "outputs": [
        {
          "output_type": "stream",
          "name": "stdout",
          "text": [
            "Digite a senha!2817\n",
            "Acesso liberado!\n"
          ]
        }
      ]
    },
    {
      "cell_type": "code",
      "source": [
        "from ast import arg\n",
        "#Escreva um mine sistema para criacao de senha\n",
        "#Solicita ao usuario que digite a senha.\n",
        "#Ele deve ter, no  minimo 6 CARACTERES\n",
        "# O usuario deve confirmar a senha digitando dauas vezez.\n",
        "print(\"PORTAL DO ESTUDANTE\")\n",
        "\n",
        "print(\"Para participar da aula digite sua senha!\")\n",
        "senha1 = str(input('Insira sua senha  '))\n",
        "teste = str(input('Insira sua senha  '))\n",
        "if len(senha) != 6:\n",
        "    print('apenas seis caracteres')\n",
        "else:\n",
        "    confirmacao = str(input('digite sua senha novamente'))\n",
        "\n",
        "    if senha == confirmacao:\n",
        "        print('Bem vindo!')\n",
        "    else:\n",
        "        print('senha invalida')"
      ],
      "metadata": {
        "id": "zPTqtNeF8Cc3",
        "colab": {
          "base_uri": "https://localhost:8080/"
        },
        "outputId": "9bf4db37-5030-40c1-ffe7-b2acb5130b27"
      },
      "execution_count": null,
      "outputs": [
        {
          "output_type": "stream",
          "name": "stdout",
          "text": [
            "PORTAL DO ESTUDANTE\n",
            "Para participar da aula digite sua senha!\n",
            "Insira sua senha  123456\n",
            "Insira sua senha  123456\n",
            "apenas seis caracteres\n"
          ]
        }
      ]
    },
    {
      "cell_type": "code",
      "source": [
        "for i in range(1, 8):\n",
        "  print(i)"
      ],
      "metadata": {
        "id": "iyIEFcQT0FR7"
      },
      "execution_count": null,
      "outputs": []
    },
    {
      "cell_type": "code",
      "source": [
        "for i in range (8):\n",
        "  print(i)"
      ],
      "metadata": {
        "id": "qgGXF6xp2wlY"
      },
      "execution_count": null,
      "outputs": []
    },
    {
      "cell_type": "code",
      "source": [
        "#printar todos os numeros de 10 a 25\n",
        "# printar todos os numeros pares de 0 a 50\n",
        "# printar todos os numeros de 10 a 1 (regressivo)\n",
        "#mostar a soma de todos os numeros de um intervalo, inserindo pelo usuario\n",
        "\n"
      ],
      "metadata": {
        "id": "BZ70oMRZ2-8Z"
      },
      "execution_count": null,
      "outputs": []
    },
    {
      "cell_type": "code",
      "source": [
        "#printar todos os numeros de 10 a 25\n",
        "for i in range(10, 26):\n",
        "  print(i)"
      ],
      "metadata": {
        "id": "ue-WjJsZ3zDI"
      },
      "execution_count": null,
      "outputs": []
    },
    {
      "cell_type": "code",
      "source": [
        "# printar todos os numeros pares de 0 a 50\n",
        "for i in range(0 , 51, 2):\n",
        "  print(i)"
      ],
      "metadata": {
        "id": "_pgdj_qw4Vfc"
      },
      "execution_count": null,
      "outputs": []
    },
    {
      "cell_type": "code",
      "source": [
        "# printar todos os numeros de 10 a 1 (regressivo)\n",
        "for i in range (10,0,-1):\n",
        "  print(i)"
      ],
      "metadata": {
        "colab": {
          "base_uri": "https://localhost:8080/"
        },
        "id": "Sv9S82_X40ts",
        "outputId": "0e6ca15b-5a28-401a-ce3b-83dca3de795d"
      },
      "execution_count": null,
      "outputs": [
        {
          "output_type": "stream",
          "name": "stdout",
          "text": [
            "10\n",
            "9\n",
            "8\n",
            "7\n",
            "6\n",
            "5\n",
            "4\n",
            "3\n",
            "2\n",
            "1\n"
          ]
        }
      ]
    },
    {
      "cell_type": "code",
      "source": [
        "#mostar a soma de todos os numeros de um intervalo, inserindo pelo usuario\n",
        "for i in range(5):\n",
        "  soma = soma + i\n",
        "\n",
        "print(soma)"
      ],
      "metadata": {
        "colab": {
          "base_uri": "https://localhost:8080/"
        },
        "id": "GHaSUJ5O44A9",
        "outputId": "a3a66bc8-16d4-40cb-a04c-4f7b94802d8a"
      },
      "execution_count": null,
      "outputs": [
        {
          "output_type": "stream",
          "name": "stdout",
          "text": [
            "12\n"
          ]
        }
      ]
    },
    {
      "cell_type": "code",
      "source": [],
      "metadata": {
        "id": "r6MPd9FI3oUs"
      },
      "execution_count": null,
      "outputs": []
    },
    {
      "cell_type": "code",
      "source": [
        "#mostar a soma de todos os numeros de um intervalo, inserindo pelo usuario\n",
        "soma = 0\n",
        "num1 = int(input(\"insira o primeiro numero \"))\n",
        "num2 = int(input(\"insira o final do intervalo \"))\n",
        "\n",
        "for i in range(num1, num2+1):\n",
        "  soma=soma+i\n",
        "\n",
        "\n",
        "print(soma)"
      ],
      "metadata": {
        "colab": {
          "base_uri": "https://localhost:8080/"
        },
        "id": "36oPZg6b7dLs",
        "outputId": "55eef84d-eb34-4509-e624-d588fdaf0144"
      },
      "execution_count": null,
      "outputs": [
        {
          "output_type": "stream",
          "name": "stdout",
          "text": [
            "insira o primeiro numero 2\n",
            "insira o final do intervalo 10\n",
            "54\n"
          ]
        }
      ]
    },
    {
      "cell_type": "code",
      "source": [
        "#Pega um ranger de valores entre 1 e 20 e imprime.\n",
        "# e imprima se e par ou impar\n",
        "# ex: 1 e impar\n",
        "\n",
        "for i in range(1, 21):\n",
        "  if(i % 2 ==0):\n",
        "    print(i, \"e par\")\n",
        "  else:\n",
        "      print(i, \"e impar\")"
      ],
      "metadata": {
        "id": "RmKY0gLi_GaR"
      },
      "execution_count": null,
      "outputs": []
    },
    {
      "cell_type": "code",
      "source": [
        "#Percorrer lista com FOR\n",
        "carros =['chavete', 'fusca', 'variant', 'lada']\n",
        "\n",
        "for carro in carros:\n",
        "  print(carro)\n"
      ],
      "metadata": {
        "id": "YKixfqYnAXk7"
      },
      "execution_count": null,
      "outputs": []
    },
    {
      "cell_type": "code",
      "source": [
        "#Laço While - enquanto\n"
      ],
      "metadata": {
        "id": "1ubpxvTNB7kz"
      },
      "execution_count": null,
      "outputs": []
    },
    {
      "cell_type": "code",
      "source": [
        "i = 1\n",
        "while(i <=5):\n",
        "  print(i)\n",
        "  i+=1\n",
        "  #inclemento\n",
        "  #soma = soma +1\n",
        "  #soma +=1"
      ],
      "metadata": {
        "id": "pRVbi8rQB7hY"
      },
      "execution_count": null,
      "outputs": []
    },
    {
      "cell_type": "code",
      "source": [
        "senha=\"\"\n",
        "\n",
        "while (senha != \"123\"):\n",
        "  senha = input(\"digite a senha\")\n",
        "print('Acesso liberado')\n"
      ],
      "metadata": {
        "colab": {
          "base_uri": "https://localhost:8080/"
        },
        "id": "0jEBzBFJC8Ys",
        "outputId": "8d814d6e-d571-48c3-d152-470c2afc5303"
      },
      "execution_count": null,
      "outputs": [
        {
          "output_type": "stream",
          "name": "stdout",
          "text": [
            "digite a senha56788\n",
            "digite a senha567890\n",
            "digite a senha123\n",
            "Acesso liberado\n"
          ]
        }
      ]
    },
    {
      "cell_type": "code",
      "source": [
        "print(valor,\"diferente de zero\")"
      ],
      "metadata": {
        "id": "hD1N3fkZEHoL"
      },
      "execution_count": null,
      "outputs": []
    },
    {
      "cell_type": "code",
      "source": [
        "valor = 1\n",
        "\n",
        "while(valor != 0):\n",
        "  print(valor,\"e diferente de zero\")\n",
        "  valor = int(input(\"digite um numero, zero sai:  \"))\n",
        "print('Digitasse zero!   ')"
      ],
      "metadata": {
        "id": "EKQsOgkwD8xF"
      },
      "execution_count": null,
      "outputs": []
    },
    {
      "cell_type": "code",
      "source": [
        "# incremento o codigo anterior para que leia\n",
        "#os numeros que o usuario digite a soma\n",
        "#quanto o usuario digitar 0, sai e exibe o somatorio.\n"
      ],
      "metadata": {
        "id": "GT9EJq5oFGiT"
      },
      "execution_count": null,
      "outputs": []
    },
    {
      "cell_type": "code",
      "source": [
        "valor = 1\n",
        "soma = 0\n",
        "while (valor !=0):\n",
        "  valor = int(input('Digite o valor, zero sai:   '))\n",
        "  soma += valor\n",
        "print(\"A soma e \" , soma)"
      ],
      "metadata": {
        "colab": {
          "base_uri": "https://localhost:8080/"
        },
        "id": "_lKnzYOHG06w",
        "outputId": "9fbd3455-29d7-4e1b-de5f-5d023ca6a9f0"
      },
      "execution_count": null,
      "outputs": [
        {
          "output_type": "stream",
          "name": "stdout",
          "text": [
            "Digite o valor, zero sai:   444444\n",
            "Digite o valor, zero sai:   444444\n",
            "Digite o valor, zero sai:   0\n",
            "A soma e  888888\n"
          ]
        }
      ]
    },
    {
      "cell_type": "code",
      "source": [
        "\n",
        "\n",
        "vida = 10\n",
        "\n",
        "while(vida > 0):\n",
        "  print(\"O jogo esta rolando\")\n",
        "  vida-=1\n",
        "  print(f\"Levou um soco, a vida agora e {vida}\")\n",
        "\n",
        "print(\"Gamer Over\")\n",
        "\n",
        "\n",
        "\n",
        "\n",
        "\n",
        "\n",
        "\n"
      ],
      "metadata": {
        "id": "ZBpg9c_Ozu9E",
        "colab": {
          "base_uri": "https://localhost:8080/"
        },
        "outputId": "b75fadd9-e04d-4997-9fd6-a199f73bf67d"
      },
      "execution_count": null,
      "outputs": [
        {
          "output_type": "stream",
          "name": "stdout",
          "text": [
            "O jogo esta rolando\n",
            "Levou um soco, a vida agora e 9\n",
            "O jogo esta rolando\n",
            "Levou um soco, a vida agora e 8\n",
            "O jogo esta rolando\n",
            "Levou um soco, a vida agora e 7\n",
            "O jogo esta rolando\n",
            "Levou um soco, a vida agora e 6\n",
            "O jogo esta rolando\n",
            "Levou um soco, a vida agora e 5\n",
            "O jogo esta rolando\n",
            "Levou um soco, a vida agora e 4\n",
            "O jogo esta rolando\n",
            "Levou um soco, a vida agora e 3\n",
            "O jogo esta rolando\n",
            "Levou um soco, a vida agora e 2\n",
            "O jogo esta rolando\n",
            "Levou um soco, a vida agora e 1\n",
            "O jogo esta rolando\n",
            "Levou um soco, a vida agora e 0\n",
            "Gamer Over\n"
          ]
        }
      ]
    },
    {
      "cell_type": "markdown",
      "source": [
        "Numeros aleatorios (RANDOMICOS)"
      ],
      "metadata": {
        "id": "GOl_-wGj2OzR"
      }
    },
    {
      "cell_type": "code",
      "source": [
        "import random\n"
      ],
      "metadata": {
        "id": "NSCJOvIk2bqJ"
      },
      "execution_count": null,
      "outputs": []
    },
    {
      "cell_type": "code",
      "source": [
        "numero_aleatorio = random.randint(1, 10)\n",
        "\n",
        "print(numero_aleatorio)"
      ],
      "metadata": {
        "colab": {
          "base_uri": "https://localhost:8080/"
        },
        "id": "hrwI4rcz2na1",
        "outputId": "7f2cb327-63f1-421c-d5df-6d051373c2a9"
      },
      "execution_count": null,
      "outputs": [
        {
          "output_type": "stream",
          "name": "stdout",
          "text": [
            "9\n"
          ]
        }
      ]
    },
    {
      "cell_type": "code",
      "source": [
        "#crie um simulador de lançamento de dados\n",
        "\n",
        "dados = random.randint (1, 6)\n",
        "print(dados)\n"
      ],
      "metadata": {
        "id": "iNQfbAYW29ej",
        "colab": {
          "base_uri": "https://localhost:8080/"
        },
        "outputId": "677c3f1b-ce80-4514-a8be-b74af1ecac56"
      },
      "execution_count": null,
      "outputs": [
        {
          "output_type": "stream",
          "name": "stdout",
          "text": [
            "3\n"
          ]
        }
      ]
    },
    {
      "cell_type": "code",
      "source": [
        "#ramdom.choice\n",
        "\n",
        "\n",
        "nomes = (\"Jeane\", \"Mateus\", \"Nyedson\", \"karol\")\n",
        "sorteio = random.choice(nomes)\n",
        "print(sorteio)"
      ],
      "metadata": {
        "colab": {
          "base_uri": "https://localhost:8080/"
        },
        "id": "Cn14K34-4wTx",
        "outputId": "39981ef9-6eba-4669-9677-a4ed50eca9c4"
      },
      "execution_count": null,
      "outputs": [
        {
          "output_type": "stream",
          "name": "stdout",
          "text": [
            "Nyedson\n"
          ]
        }
      ]
    },
    {
      "cell_type": "code",
      "source": [],
      "metadata": {
        "id": "zw2embi8F3ab"
      },
      "execution_count": null,
      "outputs": []
    }
  ]
}