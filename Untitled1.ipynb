{
  "nbformat": 4,
  "nbformat_minor": 0,
  "metadata": {
    "colab": {
      "provenance": [],
      "authorship_tag": "ABX9TyP2c4LfpKMrYrMB7OHwzJtl",
      "include_colab_link": true
    },
    "kernelspec": {
      "name": "python3",
      "display_name": "Python 3"
    },
    "language_info": {
      "name": "python"
    }
  },
  "cells": [
    {
      "cell_type": "markdown",
      "metadata": {
        "id": "view-in-github",
        "colab_type": "text"
      },
      "source": [
        "<a href=\"https://colab.research.google.com/github/smateussantos/Acerte-game/blob/main/Untitled1.ipynb\" target=\"_parent\"><img src=\"https://colab.research.google.com/assets/colab-badge.svg\" alt=\"Open In Colab\"/></a>"
      ]
    },
    {
      "cell_type": "code",
      "source": [
        "import random"
      ],
      "metadata": {
        "id": "gxtWb8W9ESFV"
      },
      "execution_count": 2,
      "outputs": []
    },
    {
      "cell_type": "code",
      "execution_count": 5,
      "metadata": {
        "colab": {
          "base_uri": "https://localhost:8080/"
        },
        "id": "E6bqjqbgENYL",
        "outputId": "f6a58858-a0bd-434f-b9c3-44efb995946e"
      },
      "outputs": [
        {
          "output_type": "stream",
          "name": "stdout",
          "text": [
            "56\n",
            "digite um numero entre 0 e 100\n",
            "45\n",
            "Errou\n",
            " Digite um numero entre 45 e 100\n",
            "55\n",
            "Errou\n",
            " Digite um numero entre 55 e 100\n",
            "23\n",
            "Errou\n",
            " Digite um numero entre 23 e 100\n",
            "23\n",
            "Errou\n",
            " Digite um numero entre 23 e 100\n",
            "56\n",
            "Acertou! Parabens\n"
          ]
        }
      ],
      "source": [
        "#escreva um game para encontrar o numero secreto gerado,\n",
        "#o sistema gera um numero aleatorio entre 0 e 100\n",
        "#o usuario dar um palpite\n",
        "#quando o palpite for errado:\n",
        "### se for maior que o numero, esse se torna o numero maximo\n",
        "##### se for maior que o numero, esse se torna o minimo\n",
        "# o jogo termina quando a pessoa acerta o numero.\n",
        "## BONUS: Mostra enquantas tentativas conseguiu acertar\n",
        "\n",
        "\n",
        "num_secreto = random.randint(0, 100)\n",
        "print(num_secreto)\n",
        "minimo = 0\n",
        "maximo = 100\n",
        "print(f\"digite um numero entre {minimo} e {maximo}\")\n",
        "pitaco = int(input())\n",
        "while(pitaco != num_secreto):\n",
        "  print(\"Errou\")\n",
        "  if (pitaco > num_secreto):\n",
        "    maximo = pitaco\n",
        "  else:\n",
        "    minimo = pitaco\n",
        "  print(f\" Digite um numero entre {minimo} e {maximo}\")\n",
        "  pitaco = int(input(''))\n",
        "print(\"Acertou! Parabens\")\n"
      ]
    }
  ]
}